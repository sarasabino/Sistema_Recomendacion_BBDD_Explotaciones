{
  "nbformat": 4,
  "nbformat_minor": 0,
  "metadata": {
    "colab": {
      "name": "MVP_data_test.ipynb",
      "provenance": [],
      "authorship_tag": "ABX9TyM8Nne8FU/mRg9PMOKwW8yh",
      "include_colab_link": true
    },
    "kernelspec": {
      "name": "python3",
      "display_name": "Python 3"
    }
  },
  "cells": [
    {
      "cell_type": "markdown",
      "metadata": {
        "id": "view-in-github",
        "colab_type": "text"
      },
      "source": [
        "<a href=\"https://colab.research.google.com/github/sarasabino/Sistema_Recomendacion_BBDD_Explotaciones/blob/main/MVP_data_test.ipynb\" target=\"_parent\"><img src=\"https://colab.research.google.com/assets/colab-badge.svg\" alt=\"Open In Colab\"/></a>"
      ]
    },
    {
      "cell_type": "markdown",
      "metadata": {
        "id": "A0k2Dn3jgrT9"
      },
      "source": [
        "# MVP - BBDD Generation recommender system"
      ]
    },
    {
      "cell_type": "markdown",
      "metadata": {
        "id": "dA_2g5MWfc4d"
      },
      "source": [
        "One of the main difficulties on the implementation of this project is the fact that the data needs to be standarized in order to be able to compare. \n",
        "\n",
        "For the purpose to present the idea in a clear way this notebook present a simple example of how the recommender system will proceed once the data is all standarized. \n",
        "\n",
        "This problem with the data is not going to be present once this previous work is done because once the project is in \"pro\" version the user will feed the system with their answers in a standarized way. It will be only be relevant to keep going the recommender as first place. \n",
        "\n",
        "The data use in this notebook is totally manipulated to be able to compare at first without doing the standarizing exercise as it will be taking long."
      ]
    },
    {
      "cell_type": "code",
      "metadata": {
        "id": "2uxassCNg_II"
      },
      "source": [
        "%matplotlib inline\n",
        "import matplotlib.pyplot as plt\n",
        "import numpy as np\n",
        "import pandas as pd\n",
        "import io\n",
        "import os\n",
        "import time"
      ],
      "execution_count": 1,
      "outputs": []
    },
    {
      "cell_type": "markdown",
      "metadata": {
        "id": "WLTyQiMxkzZr"
      },
      "source": [
        ""
      ]
    },
    {
      "cell_type": "code",
      "metadata": {
        "colab": {
          "resources": {
            "http://localhost:8080/nbextensions/google.colab/files.js": {
              "data": "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",
              "ok": true,
              "headers": [
                [
                  "content-type",
                  "application/javascript"
                ]
              ],
              "status": 200,
              "status_text": ""
            }
          },
          "base_uri": "https://localhost:8080/",
          "height": 72
        },
        "id": "ULfzd1eyg_NZ",
        "outputId": "63bca5ea-0849-424d-eecd-e841ca1fb9c0"
      },
      "source": [
        "from google.colab import files\n",
        "uploaded = files.upload()"
      ],
      "execution_count": 75,
      "outputs": [
        {
          "output_type": "display_data",
          "data": {
            "text/html": [
              "\n",
              "     <input type=\"file\" id=\"files-86bd5dd6-f34f-481c-99f2-58be0c55167b\" name=\"files[]\" multiple disabled\n",
              "        style=\"border:none\" />\n",
              "     <output id=\"result-86bd5dd6-f34f-481c-99f2-58be0c55167b\">\n",
              "      Upload widget is only available when the cell has been executed in the\n",
              "      current browser session. Please rerun this cell to enable.\n",
              "      </output>\n",
              "      <script src=\"/nbextensions/google.colab/files.js\"></script> "
            ],
            "text/plain": [
              "<IPython.core.display.HTML object>"
            ]
          },
          "metadata": {
            "tags": []
          }
        },
        {
          "output_type": "stream",
          "text": [
            "Saving projects_with_tables.csv to projects_with_tables (1).csv\n"
          ],
          "name": "stdout"
        }
      ]
    },
    {
      "cell_type": "code",
      "metadata": {
        "id": "IjZDYVUng_P8"
      },
      "source": [
        "test_file = pd.read_csv(io.BytesIO(uploaded['projects_with_tables.csv']), sep = ';', header=None)"
      ],
      "execution_count": 76,
      "outputs": []
    },
    {
      "cell_type": "code",
      "metadata": {
        "colab": {
          "base_uri": "https://localhost:8080/",
          "height": 275
        },
        "id": "hKEcYZ6qfVot",
        "outputId": "8f7d353c-1e13-45a0-ebec-d0b962421ea4"
      },
      "source": [
        "test_file.head()"
      ],
      "execution_count": 77,
      "outputs": [
        {
          "output_type": "execute_result",
          "data": {
            "text/html": [
              "<div>\n",
              "<style scoped>\n",
              "    .dataframe tbody tr th:only-of-type {\n",
              "        vertical-align: middle;\n",
              "    }\n",
              "\n",
              "    .dataframe tbody tr th {\n",
              "        vertical-align: top;\n",
              "    }\n",
              "\n",
              "    .dataframe thead th {\n",
              "        text-align: right;\n",
              "    }\n",
              "</style>\n",
              "<table border=\"1\" class=\"dataframe\">\n",
              "  <thead>\n",
              "    <tr style=\"text-align: right;\">\n",
              "      <th></th>\n",
              "      <th>0</th>\n",
              "      <th>1</th>\n",
              "      <th>2</th>\n",
              "      <th>3</th>\n",
              "      <th>4</th>\n",
              "      <th>5</th>\n",
              "      <th>6</th>\n",
              "      <th>7</th>\n",
              "      <th>8</th>\n",
              "      <th>9</th>\n",
              "      <th>10</th>\n",
              "      <th>11</th>\n",
              "      <th>12</th>\n",
              "      <th>13</th>\n",
              "      <th>14</th>\n",
              "    </tr>\n",
              "  </thead>\n",
              "  <tbody>\n",
              "    <tr>\n",
              "      <th>0</th>\n",
              "      <td>RRHH</td>\n",
              "      <td>Plantilla_mensual</td>\n",
              "      <td>tipo_contrato</td>\n",
              "      <td>categoria_profesional</td>\n",
              "      <td>empleados_excluidos</td>\n",
              "      <td>nacionalidad</td>\n",
              "      <td>pais_trabajo</td>\n",
              "      <td>NaN</td>\n",
              "      <td>NaN</td>\n",
              "      <td>NaN</td>\n",
              "      <td>NaN</td>\n",
              "      <td>NaN</td>\n",
              "      <td>NaN</td>\n",
              "      <td>NaN</td>\n",
              "      <td>NaN</td>\n",
              "    </tr>\n",
              "    <tr>\n",
              "      <th>1</th>\n",
              "      <td>Brecha Salarial</td>\n",
              "      <td>Plantilla_mensual</td>\n",
              "      <td>Brecha_salarios</td>\n",
              "      <td>tipo_contrato</td>\n",
              "      <td>categoria_profesional</td>\n",
              "      <td>empleados_excluidos</td>\n",
              "      <td>nacionalidad</td>\n",
              "      <td>pais_trabajo</td>\n",
              "      <td>NaN</td>\n",
              "      <td>NaN</td>\n",
              "      <td>NaN</td>\n",
              "      <td>NaN</td>\n",
              "      <td>NaN</td>\n",
              "      <td>NaN</td>\n",
              "      <td>NaN</td>\n",
              "    </tr>\n",
              "    <tr>\n",
              "      <th>2</th>\n",
              "      <td>RRHH</td>\n",
              "      <td>rrhh_absentismo</td>\n",
              "      <td>rrhh_altas</td>\n",
              "      <td>rrhh_bajas</td>\n",
              "      <td>rhhh_plantilla</td>\n",
              "      <td>rrhh_contratacion</td>\n",
              "      <td>rrhh_indicadores</td>\n",
              "      <td>rrhh_jornada_trabajo</td>\n",
              "      <td>rrhhh_datos</td>\n",
              "      <td>NaN</td>\n",
              "      <td>NaN</td>\n",
              "      <td>NaN</td>\n",
              "      <td>NaN</td>\n",
              "      <td>NaN</td>\n",
              "      <td>NaN</td>\n",
              "    </tr>\n",
              "    <tr>\n",
              "      <th>3</th>\n",
              "      <td>RRHH</td>\n",
              "      <td>Entidades RRHH</td>\n",
              "      <td>Indicadores RRHH</td>\n",
              "      <td>Periodos Informes RRHH</td>\n",
              "      <td>Valores Informe RRHH</td>\n",
              "      <td>NaN</td>\n",
              "      <td>NaN</td>\n",
              "      <td>NaN</td>\n",
              "      <td>NaN</td>\n",
              "      <td>NaN</td>\n",
              "      <td>NaN</td>\n",
              "      <td>NaN</td>\n",
              "      <td>NaN</td>\n",
              "      <td>NaN</td>\n",
              "      <td>NaN</td>\n",
              "    </tr>\n",
              "    <tr>\n",
              "      <th>4</th>\n",
              "      <td>RRHH</td>\n",
              "      <td>Indicadores RSC</td>\n",
              "      <td>rrhh_altas</td>\n",
              "      <td>rrhh_bajas</td>\n",
              "      <td>r_rhh_tipo_entidad_juridica</td>\n",
              "      <td>Responsables de sociedades juridicas</td>\n",
              "      <td>rrhh_carga_indicadores</td>\n",
              "      <td>rrhh_carga_indicadores_MES</td>\n",
              "      <td>NaN</td>\n",
              "      <td>u_rhh_carga_subactividades</td>\n",
              "      <td>u_rhh_carga_subactividades</td>\n",
              "      <td>u_rhh_carga_subactividades</td>\n",
              "      <td>u_rhh_carga_subactividades</td>\n",
              "      <td>u_rhh_carga_subactividades</td>\n",
              "      <td>u_rhh_carga_subactividades</td>\n",
              "    </tr>\n",
              "  </tbody>\n",
              "</table>\n",
              "</div>"
            ],
            "text/plain": [
              "                0   ...                          14\n",
              "0             RRHH  ...                         NaN\n",
              "1  Brecha Salarial  ...                         NaN\n",
              "2             RRHH  ...                         NaN\n",
              "3             RRHH  ...                         NaN\n",
              "4             RRHH  ...  u_rhh_carga_subactividades\n",
              "\n",
              "[5 rows x 15 columns]"
            ]
          },
          "metadata": {
            "tags": []
          },
          "execution_count": 77
        }
      ]
    },
    {
      "cell_type": "code",
      "metadata": {
        "colab": {
          "base_uri": "https://localhost:8080/",
          "height": 275
        },
        "id": "_L5V_E3VmGTs",
        "outputId": "3ec0b5bb-5a90-4939-a91a-d5cc034032dd"
      },
      "source": [
        "#We set all text in the df to lowercase\n",
        "test_file = test_file.apply(lambda x : x.str.lower())\n",
        "\n",
        "test_file.head()"
      ],
      "execution_count": 78,
      "outputs": [
        {
          "output_type": "execute_result",
          "data": {
            "text/html": [
              "<div>\n",
              "<style scoped>\n",
              "    .dataframe tbody tr th:only-of-type {\n",
              "        vertical-align: middle;\n",
              "    }\n",
              "\n",
              "    .dataframe tbody tr th {\n",
              "        vertical-align: top;\n",
              "    }\n",
              "\n",
              "    .dataframe thead th {\n",
              "        text-align: right;\n",
              "    }\n",
              "</style>\n",
              "<table border=\"1\" class=\"dataframe\">\n",
              "  <thead>\n",
              "    <tr style=\"text-align: right;\">\n",
              "      <th></th>\n",
              "      <th>0</th>\n",
              "      <th>1</th>\n",
              "      <th>2</th>\n",
              "      <th>3</th>\n",
              "      <th>4</th>\n",
              "      <th>5</th>\n",
              "      <th>6</th>\n",
              "      <th>7</th>\n",
              "      <th>8</th>\n",
              "      <th>9</th>\n",
              "      <th>10</th>\n",
              "      <th>11</th>\n",
              "      <th>12</th>\n",
              "      <th>13</th>\n",
              "      <th>14</th>\n",
              "    </tr>\n",
              "  </thead>\n",
              "  <tbody>\n",
              "    <tr>\n",
              "      <th>0</th>\n",
              "      <td>rrhh</td>\n",
              "      <td>plantilla_mensual</td>\n",
              "      <td>tipo_contrato</td>\n",
              "      <td>categoria_profesional</td>\n",
              "      <td>empleados_excluidos</td>\n",
              "      <td>nacionalidad</td>\n",
              "      <td>pais_trabajo</td>\n",
              "      <td>NaN</td>\n",
              "      <td>NaN</td>\n",
              "      <td>NaN</td>\n",
              "      <td>NaN</td>\n",
              "      <td>NaN</td>\n",
              "      <td>NaN</td>\n",
              "      <td>NaN</td>\n",
              "      <td>NaN</td>\n",
              "    </tr>\n",
              "    <tr>\n",
              "      <th>1</th>\n",
              "      <td>brecha salarial</td>\n",
              "      <td>plantilla_mensual</td>\n",
              "      <td>brecha_salarios</td>\n",
              "      <td>tipo_contrato</td>\n",
              "      <td>categoria_profesional</td>\n",
              "      <td>empleados_excluidos</td>\n",
              "      <td>nacionalidad</td>\n",
              "      <td>pais_trabajo</td>\n",
              "      <td>NaN</td>\n",
              "      <td>NaN</td>\n",
              "      <td>NaN</td>\n",
              "      <td>NaN</td>\n",
              "      <td>NaN</td>\n",
              "      <td>NaN</td>\n",
              "      <td>NaN</td>\n",
              "    </tr>\n",
              "    <tr>\n",
              "      <th>2</th>\n",
              "      <td>rrhh</td>\n",
              "      <td>rrhh_absentismo</td>\n",
              "      <td>rrhh_altas</td>\n",
              "      <td>rrhh_bajas</td>\n",
              "      <td>rhhh_plantilla</td>\n",
              "      <td>rrhh_contratacion</td>\n",
              "      <td>rrhh_indicadores</td>\n",
              "      <td>rrhh_jornada_trabajo</td>\n",
              "      <td>rrhhh_datos</td>\n",
              "      <td>NaN</td>\n",
              "      <td>NaN</td>\n",
              "      <td>NaN</td>\n",
              "      <td>NaN</td>\n",
              "      <td>NaN</td>\n",
              "      <td>NaN</td>\n",
              "    </tr>\n",
              "    <tr>\n",
              "      <th>3</th>\n",
              "      <td>rrhh</td>\n",
              "      <td>entidades rrhh</td>\n",
              "      <td>indicadores rrhh</td>\n",
              "      <td>periodos informes rrhh</td>\n",
              "      <td>valores informe rrhh</td>\n",
              "      <td>NaN</td>\n",
              "      <td>NaN</td>\n",
              "      <td>NaN</td>\n",
              "      <td>NaN</td>\n",
              "      <td>NaN</td>\n",
              "      <td>NaN</td>\n",
              "      <td>NaN</td>\n",
              "      <td>NaN</td>\n",
              "      <td>NaN</td>\n",
              "      <td>NaN</td>\n",
              "    </tr>\n",
              "    <tr>\n",
              "      <th>4</th>\n",
              "      <td>rrhh</td>\n",
              "      <td>indicadores rsc</td>\n",
              "      <td>rrhh_altas</td>\n",
              "      <td>rrhh_bajas</td>\n",
              "      <td>r_rhh_tipo_entidad_juridica</td>\n",
              "      <td>responsables de sociedades juridicas</td>\n",
              "      <td>rrhh_carga_indicadores</td>\n",
              "      <td>rrhh_carga_indicadores_mes</td>\n",
              "      <td>NaN</td>\n",
              "      <td>u_rhh_carga_subactividades</td>\n",
              "      <td>u_rhh_carga_subactividades</td>\n",
              "      <td>u_rhh_carga_subactividades</td>\n",
              "      <td>u_rhh_carga_subactividades</td>\n",
              "      <td>u_rhh_carga_subactividades</td>\n",
              "      <td>u_rhh_carga_subactividades</td>\n",
              "    </tr>\n",
              "  </tbody>\n",
              "</table>\n",
              "</div>"
            ],
            "text/plain": [
              "                0   ...                          14\n",
              "0             rrhh  ...                         NaN\n",
              "1  brecha salarial  ...                         NaN\n",
              "2             rrhh  ...                         NaN\n",
              "3             rrhh  ...                         NaN\n",
              "4             rrhh  ...  u_rhh_carga_subactividades\n",
              "\n",
              "[5 rows x 15 columns]"
            ]
          },
          "metadata": {
            "tags": []
          },
          "execution_count": 78
        }
      ]
    },
    {
      "cell_type": "code",
      "metadata": {
        "id": "XHf0MWR1pzut"
      },
      "source": [
        ""
      ],
      "execution_count": null,
      "outputs": []
    },
    {
      "cell_type": "code",
      "metadata": {
        "colab": {
          "base_uri": "https://localhost:8080/",
          "height": 394
        },
        "id": "-jX3RxuMmGa8",
        "outputId": "8d990ddb-be06-49ba-88bf-50694a906168"
      },
      "source": [
        "#We create a new column with a list containing all tables in that project\n",
        "\n",
        "test_file['tables'] = test_file.loc[:,test_file.columns != 0].values.tolist()\n",
        "\n",
        "test_file.head()"
      ],
      "execution_count": 79,
      "outputs": [
        {
          "output_type": "execute_result",
          "data": {
            "text/html": [
              "<div>\n",
              "<style scoped>\n",
              "    .dataframe tbody tr th:only-of-type {\n",
              "        vertical-align: middle;\n",
              "    }\n",
              "\n",
              "    .dataframe tbody tr th {\n",
              "        vertical-align: top;\n",
              "    }\n",
              "\n",
              "    .dataframe thead th {\n",
              "        text-align: right;\n",
              "    }\n",
              "</style>\n",
              "<table border=\"1\" class=\"dataframe\">\n",
              "  <thead>\n",
              "    <tr style=\"text-align: right;\">\n",
              "      <th></th>\n",
              "      <th>0</th>\n",
              "      <th>1</th>\n",
              "      <th>2</th>\n",
              "      <th>3</th>\n",
              "      <th>4</th>\n",
              "      <th>5</th>\n",
              "      <th>6</th>\n",
              "      <th>7</th>\n",
              "      <th>8</th>\n",
              "      <th>9</th>\n",
              "      <th>10</th>\n",
              "      <th>11</th>\n",
              "      <th>12</th>\n",
              "      <th>13</th>\n",
              "      <th>14</th>\n",
              "      <th>tables</th>\n",
              "    </tr>\n",
              "  </thead>\n",
              "  <tbody>\n",
              "    <tr>\n",
              "      <th>0</th>\n",
              "      <td>rrhh</td>\n",
              "      <td>plantilla_mensual</td>\n",
              "      <td>tipo_contrato</td>\n",
              "      <td>categoria_profesional</td>\n",
              "      <td>empleados_excluidos</td>\n",
              "      <td>nacionalidad</td>\n",
              "      <td>pais_trabajo</td>\n",
              "      <td>NaN</td>\n",
              "      <td>NaN</td>\n",
              "      <td>NaN</td>\n",
              "      <td>NaN</td>\n",
              "      <td>NaN</td>\n",
              "      <td>NaN</td>\n",
              "      <td>NaN</td>\n",
              "      <td>NaN</td>\n",
              "      <td>[plantilla_mensual, tipo_contrato, categoria_p...</td>\n",
              "    </tr>\n",
              "    <tr>\n",
              "      <th>1</th>\n",
              "      <td>brecha salarial</td>\n",
              "      <td>plantilla_mensual</td>\n",
              "      <td>brecha_salarios</td>\n",
              "      <td>tipo_contrato</td>\n",
              "      <td>categoria_profesional</td>\n",
              "      <td>empleados_excluidos</td>\n",
              "      <td>nacionalidad</td>\n",
              "      <td>pais_trabajo</td>\n",
              "      <td>NaN</td>\n",
              "      <td>NaN</td>\n",
              "      <td>NaN</td>\n",
              "      <td>NaN</td>\n",
              "      <td>NaN</td>\n",
              "      <td>NaN</td>\n",
              "      <td>NaN</td>\n",
              "      <td>[plantilla_mensual, brecha_salarios, tipo_cont...</td>\n",
              "    </tr>\n",
              "    <tr>\n",
              "      <th>2</th>\n",
              "      <td>rrhh</td>\n",
              "      <td>rrhh_absentismo</td>\n",
              "      <td>rrhh_altas</td>\n",
              "      <td>rrhh_bajas</td>\n",
              "      <td>rhhh_plantilla</td>\n",
              "      <td>rrhh_contratacion</td>\n",
              "      <td>rrhh_indicadores</td>\n",
              "      <td>rrhh_jornada_trabajo</td>\n",
              "      <td>rrhhh_datos</td>\n",
              "      <td>NaN</td>\n",
              "      <td>NaN</td>\n",
              "      <td>NaN</td>\n",
              "      <td>NaN</td>\n",
              "      <td>NaN</td>\n",
              "      <td>NaN</td>\n",
              "      <td>[rrhh_absentismo, rrhh_altas, rrhh_bajas, rhhh...</td>\n",
              "    </tr>\n",
              "    <tr>\n",
              "      <th>3</th>\n",
              "      <td>rrhh</td>\n",
              "      <td>entidades rrhh</td>\n",
              "      <td>indicadores rrhh</td>\n",
              "      <td>periodos informes rrhh</td>\n",
              "      <td>valores informe rrhh</td>\n",
              "      <td>NaN</td>\n",
              "      <td>NaN</td>\n",
              "      <td>NaN</td>\n",
              "      <td>NaN</td>\n",
              "      <td>NaN</td>\n",
              "      <td>NaN</td>\n",
              "      <td>NaN</td>\n",
              "      <td>NaN</td>\n",
              "      <td>NaN</td>\n",
              "      <td>NaN</td>\n",
              "      <td>[entidades rrhh, indicadores rrhh, periodos in...</td>\n",
              "    </tr>\n",
              "    <tr>\n",
              "      <th>4</th>\n",
              "      <td>rrhh</td>\n",
              "      <td>indicadores rsc</td>\n",
              "      <td>rrhh_altas</td>\n",
              "      <td>rrhh_bajas</td>\n",
              "      <td>r_rhh_tipo_entidad_juridica</td>\n",
              "      <td>responsables de sociedades juridicas</td>\n",
              "      <td>rrhh_carga_indicadores</td>\n",
              "      <td>rrhh_carga_indicadores_mes</td>\n",
              "      <td>NaN</td>\n",
              "      <td>u_rhh_carga_subactividades</td>\n",
              "      <td>u_rhh_carga_subactividades</td>\n",
              "      <td>u_rhh_carga_subactividades</td>\n",
              "      <td>u_rhh_carga_subactividades</td>\n",
              "      <td>u_rhh_carga_subactividades</td>\n",
              "      <td>u_rhh_carga_subactividades</td>\n",
              "      <td>[indicadores rsc, rrhh_altas, rrhh_bajas, r_rh...</td>\n",
              "    </tr>\n",
              "  </tbody>\n",
              "</table>\n",
              "</div>"
            ],
            "text/plain": [
              "                 0  ...                                             tables\n",
              "0             rrhh  ...  [plantilla_mensual, tipo_contrato, categoria_p...\n",
              "1  brecha salarial  ...  [plantilla_mensual, brecha_salarios, tipo_cont...\n",
              "2             rrhh  ...  [rrhh_absentismo, rrhh_altas, rrhh_bajas, rhhh...\n",
              "3             rrhh  ...  [entidades rrhh, indicadores rrhh, periodos in...\n",
              "4             rrhh  ...  [indicadores rsc, rrhh_altas, rrhh_bajas, r_rh...\n",
              "\n",
              "[5 rows x 16 columns]"
            ]
          },
          "metadata": {
            "tags": []
          },
          "execution_count": 79
        }
      ]
    },
    {
      "cell_type": "markdown",
      "metadata": {
        "id": "RG9QCbAZlGHv"
      },
      "source": [
        "We drop the individual table name columns in order to get a df with only the project name and the tables list"
      ]
    },
    {
      "cell_type": "code",
      "metadata": {
        "colab": {
          "base_uri": "https://localhost:8080/"
        },
        "id": "OES76cIWkxy8",
        "outputId": "1e2962f1-91d5-475e-90a6-c6001ab613eb"
      },
      "source": [
        "test_file.columns"
      ],
      "execution_count": 80,
      "outputs": [
        {
          "output_type": "execute_result",
          "data": {
            "text/plain": [
              "Index([0, 1, 2, 3, 4, 5, 6, 7, 8, 9, 10, 11, 12, 13, 14, 'tables'], dtype='object')"
            ]
          },
          "metadata": {
            "tags": []
          },
          "execution_count": 80
        }
      ]
    },
    {
      "cell_type": "code",
      "metadata": {
        "id": "-pPw2p9gkx5M"
      },
      "source": [
        "project_with_tables = test_file.drop(columns = [1, 2, 3, 4, 5, 6, 7, 8, 9, 10, 11, 12, 13, 14])"
      ],
      "execution_count": 81,
      "outputs": []
    },
    {
      "cell_type": "code",
      "metadata": {
        "id": "MckkSKpJkx-8"
      },
      "source": [
        "project_with_tables_nan = project_with_tables.rename(columns={0:'Project'})"
      ],
      "execution_count": 82,
      "outputs": []
    },
    {
      "cell_type": "code",
      "metadata": {
        "colab": {
          "base_uri": "https://localhost:8080/",
          "height": 204
        },
        "id": "tHtMazXWkyHP",
        "outputId": "ee8ffc0f-9342-4962-bb83-90765b79c6b1"
      },
      "source": [
        "project_with_tables_nan.head()"
      ],
      "execution_count": 83,
      "outputs": [
        {
          "output_type": "execute_result",
          "data": {
            "text/html": [
              "<div>\n",
              "<style scoped>\n",
              "    .dataframe tbody tr th:only-of-type {\n",
              "        vertical-align: middle;\n",
              "    }\n",
              "\n",
              "    .dataframe tbody tr th {\n",
              "        vertical-align: top;\n",
              "    }\n",
              "\n",
              "    .dataframe thead th {\n",
              "        text-align: right;\n",
              "    }\n",
              "</style>\n",
              "<table border=\"1\" class=\"dataframe\">\n",
              "  <thead>\n",
              "    <tr style=\"text-align: right;\">\n",
              "      <th></th>\n",
              "      <th>Project</th>\n",
              "      <th>tables</th>\n",
              "    </tr>\n",
              "  </thead>\n",
              "  <tbody>\n",
              "    <tr>\n",
              "      <th>0</th>\n",
              "      <td>rrhh</td>\n",
              "      <td>[plantilla_mensual, tipo_contrato, categoria_p...</td>\n",
              "    </tr>\n",
              "    <tr>\n",
              "      <th>1</th>\n",
              "      <td>brecha salarial</td>\n",
              "      <td>[plantilla_mensual, brecha_salarios, tipo_cont...</td>\n",
              "    </tr>\n",
              "    <tr>\n",
              "      <th>2</th>\n",
              "      <td>rrhh</td>\n",
              "      <td>[rrhh_absentismo, rrhh_altas, rrhh_bajas, rhhh...</td>\n",
              "    </tr>\n",
              "    <tr>\n",
              "      <th>3</th>\n",
              "      <td>rrhh</td>\n",
              "      <td>[entidades rrhh, indicadores rrhh, periodos in...</td>\n",
              "    </tr>\n",
              "    <tr>\n",
              "      <th>4</th>\n",
              "      <td>rrhh</td>\n",
              "      <td>[indicadores rsc, rrhh_altas, rrhh_bajas, r_rh...</td>\n",
              "    </tr>\n",
              "  </tbody>\n",
              "</table>\n",
              "</div>"
            ],
            "text/plain": [
              "           Project                                             tables\n",
              "0             rrhh  [plantilla_mensual, tipo_contrato, categoria_p...\n",
              "1  brecha salarial  [plantilla_mensual, brecha_salarios, tipo_cont...\n",
              "2             rrhh  [rrhh_absentismo, rrhh_altas, rrhh_bajas, rhhh...\n",
              "3             rrhh  [entidades rrhh, indicadores rrhh, periodos in...\n",
              "4             rrhh  [indicadores rsc, rrhh_altas, rrhh_bajas, r_rh..."
            ]
          },
          "metadata": {
            "tags": []
          },
          "execution_count": 83
        }
      ]
    },
    {
      "cell_type": "code",
      "metadata": {
        "colab": {
          "base_uri": "https://localhost:8080/"
        },
        "id": "yGh2ukkZlMLK",
        "outputId": "034268db-c888-4f4a-b054-a20644964ba4"
      },
      "source": [
        "project_with_tables_nan['tables'].isnull().values.any()"
      ],
      "execution_count": 84,
      "outputs": [
        {
          "output_type": "execute_result",
          "data": {
            "text/plain": [
              "False"
            ]
          },
          "metadata": {
            "tags": []
          },
          "execution_count": 84
        }
      ]
    },
    {
      "cell_type": "markdown",
      "metadata": {
        "id": "i9WbZf71lQhv"
      },
      "source": [
        "Creating a dictionary for projects and table names where index will be the type of project and the values the list of tables"
      ]
    },
    {
      "cell_type": "code",
      "metadata": {
        "id": "B3Efka20lMRO"
      },
      "source": [
        "tables_dict_nan = {}\n",
        "\n",
        "for index, row in project_with_tables_nan.iterrows():\n",
        "    tables_dict_nan[index] = row[1]"
      ],
      "execution_count": 85,
      "outputs": []
    },
    {
      "cell_type": "code",
      "metadata": {
        "colab": {
          "base_uri": "https://localhost:8080/"
        },
        "id": "tYmEh5rAlMVX",
        "outputId": "bb832d67-12c8-48be-a668-ee7369f71f1b"
      },
      "source": [
        "tables_dict_nan"
      ],
      "execution_count": 86,
      "outputs": [
        {
          "output_type": "execute_result",
          "data": {
            "text/plain": [
              "{0: ['plantilla_mensual',\n",
              "  'tipo_contrato',\n",
              "  'categoria_profesional',\n",
              "  'empleados_excluidos',\n",
              "  'nacionalidad',\n",
              "  'pais_trabajo',\n",
              "  nan,\n",
              "  nan,\n",
              "  nan,\n",
              "  nan,\n",
              "  nan,\n",
              "  nan,\n",
              "  nan,\n",
              "  nan],\n",
              " 1: ['plantilla_mensual',\n",
              "  'brecha_salarios',\n",
              "  'tipo_contrato',\n",
              "  'categoria_profesional',\n",
              "  'empleados_excluidos',\n",
              "  'nacionalidad',\n",
              "  'pais_trabajo',\n",
              "  nan,\n",
              "  nan,\n",
              "  nan,\n",
              "  nan,\n",
              "  nan,\n",
              "  nan,\n",
              "  nan],\n",
              " 2: ['rrhh_absentismo',\n",
              "  'rrhh_altas',\n",
              "  'rrhh_bajas',\n",
              "  'rhhh_plantilla',\n",
              "  'rrhh_contratacion',\n",
              "  'rrhh_indicadores',\n",
              "  'rrhh_jornada_trabajo',\n",
              "  'rrhhh_datos',\n",
              "  nan,\n",
              "  nan,\n",
              "  nan,\n",
              "  nan,\n",
              "  nan,\n",
              "  nan],\n",
              " 3: ['entidades rrhh',\n",
              "  'indicadores rrhh',\n",
              "  'periodos informes rrhh',\n",
              "  'valores informe rrhh',\n",
              "  nan,\n",
              "  nan,\n",
              "  nan,\n",
              "  nan,\n",
              "  nan,\n",
              "  nan,\n",
              "  nan,\n",
              "  nan,\n",
              "  nan,\n",
              "  nan],\n",
              " 4: ['indicadores rsc',\n",
              "  'rrhh_altas',\n",
              "  'rrhh_bajas',\n",
              "  'r_rhh_tipo_entidad_juridica',\n",
              "  'responsables de sociedades juridicas',\n",
              "  'rrhh_carga_indicadores',\n",
              "  'rrhh_carga_indicadores_mes',\n",
              "  nan,\n",
              "  'u_rhh_carga_subactividades',\n",
              "  'u_rhh_carga_subactividades',\n",
              "  'u_rhh_carga_subactividades',\n",
              "  'u_rhh_carga_subactividades',\n",
              "  'u_rhh_carga_subactividades',\n",
              "  'u_rhh_carga_subactividades'],\n",
              " 5: ['brecha salarial',\n",
              "  'brecha ajustada',\n",
              "  'ids a excluir brecha',\n",
              "  'percentiles brecha salarial',\n",
              "  'matriculas a obviar brecha',\n",
              "  'permisos brecha salarial',\n",
              "  'import brecha',\n",
              "  'rrhh_altas',\n",
              "  nan,\n",
              "  nan,\n",
              "  nan,\n",
              "  nan,\n",
              "  nan,\n",
              "  nan],\n",
              " 6: ['plantilla_anual',\n",
              "  'movimientos plantilla unica',\n",
              "  'movimientos cierre mes',\n",
              "  'tipo de modificacion',\n",
              "  'versiones plantilla unica',\n",
              "  'sbq movimientos periodo anterios',\n",
              "  nan,\n",
              "  nan,\n",
              "  nan,\n",
              "  nan,\n",
              "  nan,\n",
              "  nan,\n",
              "  nan,\n",
              "  nan],\n",
              " 7: ['d_hs_causa',\n",
              "  'tipo_contrato',\n",
              "  'd_hs_empresa',\n",
              "  'd_hs_presentado',\n",
              "  'd_hs_tareas',\n",
              "  'd_hs_territorio',\n",
              "  'd_hs_tipo_accidente_externo',\n",
              "  'd_hs_unidad',\n",
              "  't_hs_accidentes_externos',\n",
              "  't_hs_comunicacion_investigacion_accidentes',\n",
              "  nan,\n",
              "  nan,\n",
              "  nan,\n",
              "  nan],\n",
              " 8: ['canal gestion responsable',\n",
              "  'criticidad',\n",
              "  'delegaciones',\n",
              "  'emails del gestor',\n",
              "  'logs de emails',\n",
              "  'plantillas emails',\n",
              "  'tipologias de consultas comerciales',\n",
              "  nan,\n",
              "  nan,\n",
              "  nan,\n",
              "  nan,\n",
              "  nan,\n",
              "  nan,\n",
              "  nan],\n",
              " 9: ['gen_cuestionario',\n",
              "  'gen_ambito1',\n",
              "  'gestdoc_ambito2',\n",
              "  'preguntas',\n",
              "  'respuestas',\n",
              "  'resultados',\n",
              "  'planes de accion',\n",
              "  'palancas',\n",
              "  nan,\n",
              "  nan,\n",
              "  nan,\n",
              "  nan,\n",
              "  nan,\n",
              "  nan]}"
            ]
          },
          "metadata": {
            "tags": []
          },
          "execution_count": 86
        }
      ]
    },
    {
      "cell_type": "code",
      "metadata": {
        "id": "0_aTo2i2lT02"
      },
      "source": [
        "project_id_dict = {}\n",
        "\n",
        "for index, row in project_with_tables_nan.iterrows():\n",
        "    project_id_dict[index] = row[0]"
      ],
      "execution_count": 87,
      "outputs": []
    },
    {
      "cell_type": "code",
      "metadata": {
        "colab": {
          "base_uri": "https://localhost:8080/"
        },
        "id": "5dUvff81lT4O",
        "outputId": "9496c68f-15d6-4125-f7d8-3e59d857e3fb"
      },
      "source": [
        "project_id_dict"
      ],
      "execution_count": 88,
      "outputs": [
        {
          "output_type": "execute_result",
          "data": {
            "text/plain": [
              "{0: 'rrhh',\n",
              " 1: 'brecha salarial',\n",
              " 2: 'rrhh',\n",
              " 3: 'rrhh',\n",
              " 4: 'rrhh',\n",
              " 5: 'brecha salarial',\n",
              " 6: 'rrhh',\n",
              " 7: 'seguridad y salud',\n",
              " 8: 'canal negocio responsable',\n",
              " 9: 'operaciones'}"
            ]
          },
          "metadata": {
            "tags": []
          },
          "execution_count": 88
        }
      ]
    },
    {
      "cell_type": "markdown",
      "metadata": {
        "id": "IMukN6SPlZ4f"
      },
      "source": [
        "We remove all the NaN elements in the list inside the dictionary"
      ]
    },
    {
      "cell_type": "code",
      "metadata": {
        "id": "4XEVic3tlT7v"
      },
      "source": [
        "tablesdict = {}\n",
        "count=0\n",
        "for list_ in tables_dict_nan.values():\n",
        "    vector=[]\n",
        "    \n",
        "    for item in list_:\n",
        "        \n",
        "        if str(item) != 'nan':\n",
        "            vector.append(item)\n",
        "            \n",
        "    tablesdict[count]= vector\n",
        "    count+=1  "
      ],
      "execution_count": 89,
      "outputs": []
    },
    {
      "cell_type": "code",
      "metadata": {
        "colab": {
          "base_uri": "https://localhost:8080/"
        },
        "id": "b12r_BKxlT-1",
        "outputId": "ff06cc52-2c85-4aa9-d72e-fcb0b73c7550"
      },
      "source": [
        "tablesdict"
      ],
      "execution_count": 90,
      "outputs": [
        {
          "output_type": "execute_result",
          "data": {
            "text/plain": [
              "{0: ['plantilla_mensual',\n",
              "  'tipo_contrato',\n",
              "  'categoria_profesional',\n",
              "  'empleados_excluidos',\n",
              "  'nacionalidad',\n",
              "  'pais_trabajo'],\n",
              " 1: ['plantilla_mensual',\n",
              "  'brecha_salarios',\n",
              "  'tipo_contrato',\n",
              "  'categoria_profesional',\n",
              "  'empleados_excluidos',\n",
              "  'nacionalidad',\n",
              "  'pais_trabajo'],\n",
              " 2: ['rrhh_absentismo',\n",
              "  'rrhh_altas',\n",
              "  'rrhh_bajas',\n",
              "  'rhhh_plantilla',\n",
              "  'rrhh_contratacion',\n",
              "  'rrhh_indicadores',\n",
              "  'rrhh_jornada_trabajo',\n",
              "  'rrhhh_datos'],\n",
              " 3: ['entidades rrhh',\n",
              "  'indicadores rrhh',\n",
              "  'periodos informes rrhh',\n",
              "  'valores informe rrhh'],\n",
              " 4: ['indicadores rsc',\n",
              "  'rrhh_altas',\n",
              "  'rrhh_bajas',\n",
              "  'r_rhh_tipo_entidad_juridica',\n",
              "  'responsables de sociedades juridicas',\n",
              "  'rrhh_carga_indicadores',\n",
              "  'rrhh_carga_indicadores_mes',\n",
              "  'u_rhh_carga_subactividades',\n",
              "  'u_rhh_carga_subactividades',\n",
              "  'u_rhh_carga_subactividades',\n",
              "  'u_rhh_carga_subactividades',\n",
              "  'u_rhh_carga_subactividades',\n",
              "  'u_rhh_carga_subactividades'],\n",
              " 5: ['brecha salarial',\n",
              "  'brecha ajustada',\n",
              "  'ids a excluir brecha',\n",
              "  'percentiles brecha salarial',\n",
              "  'matriculas a obviar brecha',\n",
              "  'permisos brecha salarial',\n",
              "  'import brecha',\n",
              "  'rrhh_altas'],\n",
              " 6: ['plantilla_anual',\n",
              "  'movimientos plantilla unica',\n",
              "  'movimientos cierre mes',\n",
              "  'tipo de modificacion',\n",
              "  'versiones plantilla unica',\n",
              "  'sbq movimientos periodo anterios'],\n",
              " 7: ['d_hs_causa',\n",
              "  'tipo_contrato',\n",
              "  'd_hs_empresa',\n",
              "  'd_hs_presentado',\n",
              "  'd_hs_tareas',\n",
              "  'd_hs_territorio',\n",
              "  'd_hs_tipo_accidente_externo',\n",
              "  'd_hs_unidad',\n",
              "  't_hs_accidentes_externos',\n",
              "  't_hs_comunicacion_investigacion_accidentes'],\n",
              " 8: ['canal gestion responsable',\n",
              "  'criticidad',\n",
              "  'delegaciones',\n",
              "  'emails del gestor',\n",
              "  'logs de emails',\n",
              "  'plantillas emails',\n",
              "  'tipologias de consultas comerciales'],\n",
              " 9: ['gen_cuestionario',\n",
              "  'gen_ambito1',\n",
              "  'gestdoc_ambito2',\n",
              "  'preguntas',\n",
              "  'respuestas',\n",
              "  'resultados',\n",
              "  'planes de accion',\n",
              "  'palancas']}"
            ]
          },
          "metadata": {
            "tags": []
          },
          "execution_count": 90
        }
      ]
    },
    {
      "cell_type": "markdown",
      "metadata": {
        "id": "n9QlWmXjqBmC"
      },
      "source": [
        "We create a df with all types of tables"
      ]
    },
    {
      "cell_type": "code",
      "metadata": {
        "id": "dxYMJt6KlUCJ"
      },
      "source": [
        "all_tables = pd.DataFrame()\n",
        "vector = []\n",
        "\n",
        "for list_ in tablesdict.values():\n",
        "   for item in list_: \n",
        "    vector.append(item)\n"
      ],
      "execution_count": 117,
      "outputs": []
    },
    {
      "cell_type": "code",
      "metadata": {
        "colab": {
          "base_uri": "https://localhost:8080/",
          "height": 419
        },
        "id": "ZD1XJLV2lUFh",
        "outputId": "b9013299-bdfb-47c5-c198-cdc9036697fe"
      },
      "source": [
        "all_tables = all_tables.append(vector)\n",
        "\n",
        "all_tables"
      ],
      "execution_count": 118,
      "outputs": [
        {
          "output_type": "execute_result",
          "data": {
            "text/html": [
              "<div>\n",
              "<style scoped>\n",
              "    .dataframe tbody tr th:only-of-type {\n",
              "        vertical-align: middle;\n",
              "    }\n",
              "\n",
              "    .dataframe tbody tr th {\n",
              "        vertical-align: top;\n",
              "    }\n",
              "\n",
              "    .dataframe thead th {\n",
              "        text-align: right;\n",
              "    }\n",
              "</style>\n",
              "<table border=\"1\" class=\"dataframe\">\n",
              "  <thead>\n",
              "    <tr style=\"text-align: right;\">\n",
              "      <th></th>\n",
              "      <th>0</th>\n",
              "    </tr>\n",
              "  </thead>\n",
              "  <tbody>\n",
              "    <tr>\n",
              "      <th>0</th>\n",
              "      <td>plantilla_mensual</td>\n",
              "    </tr>\n",
              "    <tr>\n",
              "      <th>1</th>\n",
              "      <td>tipo_contrato</td>\n",
              "    </tr>\n",
              "    <tr>\n",
              "      <th>2</th>\n",
              "      <td>categoria_profesional</td>\n",
              "    </tr>\n",
              "    <tr>\n",
              "      <th>3</th>\n",
              "      <td>empleados_excluidos</td>\n",
              "    </tr>\n",
              "    <tr>\n",
              "      <th>4</th>\n",
              "      <td>nacionalidad</td>\n",
              "    </tr>\n",
              "    <tr>\n",
              "      <th>...</th>\n",
              "      <td>...</td>\n",
              "    </tr>\n",
              "    <tr>\n",
              "      <th>72</th>\n",
              "      <td>preguntas</td>\n",
              "    </tr>\n",
              "    <tr>\n",
              "      <th>73</th>\n",
              "      <td>respuestas</td>\n",
              "    </tr>\n",
              "    <tr>\n",
              "      <th>74</th>\n",
              "      <td>resultados</td>\n",
              "    </tr>\n",
              "    <tr>\n",
              "      <th>75</th>\n",
              "      <td>planes de accion</td>\n",
              "    </tr>\n",
              "    <tr>\n",
              "      <th>76</th>\n",
              "      <td>palancas</td>\n",
              "    </tr>\n",
              "  </tbody>\n",
              "</table>\n",
              "<p>77 rows × 1 columns</p>\n",
              "</div>"
            ],
            "text/plain": [
              "                        0\n",
              "0       plantilla_mensual\n",
              "1           tipo_contrato\n",
              "2   categoria_profesional\n",
              "3     empleados_excluidos\n",
              "4            nacionalidad\n",
              "..                    ...\n",
              "72              preguntas\n",
              "73             respuestas\n",
              "74             resultados\n",
              "75       planes de accion\n",
              "76               palancas\n",
              "\n",
              "[77 rows x 1 columns]"
            ]
          },
          "metadata": {
            "tags": []
          },
          "execution_count": 118
        }
      ]
    },
    {
      "cell_type": "code",
      "metadata": {
        "id": "rB3VYlVUlULP"
      },
      "source": [
        "all_tables = all_tables.drop_duplicates()"
      ],
      "execution_count": 177,
      "outputs": []
    },
    {
      "cell_type": "code",
      "metadata": {
        "id": "CVnbu3yQsBpZ"
      },
      "source": [
        "id_tables = {}\n",
        "\n",
        "count=0\n",
        "\n",
        "for index, row in all_tables.iterrows():\n",
        "  id_tables[count] = row[0]\n",
        "  count+=1"
      ],
      "execution_count": 178,
      "outputs": []
    },
    {
      "cell_type": "code",
      "metadata": {
        "colab": {
          "base_uri": "https://localhost:8080/"
        },
        "id": "Og3uf8WhsinK",
        "outputId": "10d41245-0893-42f5-935f-d9a7116dd1a9"
      },
      "source": [
        "id_tables"
      ],
      "execution_count": 179,
      "outputs": [
        {
          "output_type": "execute_result",
          "data": {
            "text/plain": [
              "{0: 'plantilla_mensual',\n",
              " 1: 'tipo_contrato',\n",
              " 2: 'categoria_profesional',\n",
              " 3: 'empleados_excluidos',\n",
              " 4: 'nacionalidad',\n",
              " 5: 'pais_trabajo',\n",
              " 6: 'brecha_salarios',\n",
              " 7: 'rrhh_absentismo',\n",
              " 8: 'rrhh_altas',\n",
              " 9: 'rrhh_bajas',\n",
              " 10: 'rhhh_plantilla',\n",
              " 11: 'rrhh_contratacion',\n",
              " 12: 'rrhh_indicadores',\n",
              " 13: 'rrhh_jornada_trabajo',\n",
              " 14: 'rrhhh_datos',\n",
              " 15: 'entidades rrhh',\n",
              " 16: 'indicadores rrhh',\n",
              " 17: 'periodos informes rrhh',\n",
              " 18: 'valores informe rrhh',\n",
              " 19: 'indicadores rsc',\n",
              " 20: 'r_rhh_tipo_entidad_juridica',\n",
              " 21: 'responsables de sociedades juridicas',\n",
              " 22: 'rrhh_carga_indicadores',\n",
              " 23: 'rrhh_carga_indicadores_mes',\n",
              " 24: 'u_rhh_carga_subactividades',\n",
              " 25: 'brecha salarial',\n",
              " 26: 'brecha ajustada',\n",
              " 27: 'ids a excluir brecha',\n",
              " 28: 'percentiles brecha salarial',\n",
              " 29: 'matriculas a obviar brecha',\n",
              " 30: 'permisos brecha salarial',\n",
              " 31: 'import brecha',\n",
              " 32: 'plantilla_anual',\n",
              " 33: 'movimientos plantilla unica',\n",
              " 34: 'movimientos cierre mes',\n",
              " 35: 'tipo de modificacion',\n",
              " 36: 'versiones plantilla unica',\n",
              " 37: 'sbq movimientos periodo anterios',\n",
              " 38: 'd_hs_causa',\n",
              " 39: 'd_hs_empresa',\n",
              " 40: 'd_hs_presentado',\n",
              " 41: 'd_hs_tareas',\n",
              " 42: 'd_hs_territorio',\n",
              " 43: 'd_hs_tipo_accidente_externo',\n",
              " 44: 'd_hs_unidad',\n",
              " 45: 't_hs_accidentes_externos',\n",
              " 46: 't_hs_comunicacion_investigacion_accidentes',\n",
              " 47: 'canal gestion responsable',\n",
              " 48: 'criticidad',\n",
              " 49: 'delegaciones',\n",
              " 50: 'emails del gestor',\n",
              " 51: 'logs de emails',\n",
              " 52: 'plantillas emails',\n",
              " 53: 'tipologias de consultas comerciales',\n",
              " 54: 'gen_cuestionario',\n",
              " 55: 'gen_ambito1',\n",
              " 56: 'gestdoc_ambito2',\n",
              " 57: 'preguntas',\n",
              " 58: 'respuestas',\n",
              " 59: 'resultados',\n",
              " 60: 'planes de accion',\n",
              " 61: 'palancas'}"
            ]
          },
          "metadata": {
            "tags": []
          },
          "execution_count": 179
        }
      ]
    },
    {
      "cell_type": "code",
      "metadata": {
        "id": "V6Wqvc8dsiqC"
      },
      "source": [
        "# Define a function that retrieves all the ids and names for tables containing 'text' in its title\n",
        "def returnItemId(text, ids):\n",
        "    \"\"\"\n",
        "    :param text: string to be looked for in tables name\n",
        "    :param ids: dicttionary of {id:title}\n",
        "    \n",
        "    :return: a list of (id,title) if text found in tables name, and an empty list otherwise.\n",
        "    \"\"\"\n",
        "    # convert input text to lowercase\n",
        "\n",
        "    text_ = text.lower()\n",
        "    \n",
        "    # find occurances\n",
        "    search = [(k, v .lower().find(text_)) for k, v in list(ids.items())]\n",
        "    \n",
        "    # Get the IDs corresponding to the given text\n",
        "    index = [k for k, v in search if v > -1]\n",
        "    \n",
        "    # Return a list with the id and the name\n",
        "    out = []\n",
        "    for i in index:\n",
        "        out.append((i, ids[i]))\n",
        "        \n",
        "    \n",
        "    return out"
      ],
      "execution_count": 134,
      "outputs": []
    },
    {
      "cell_type": "code",
      "metadata": {
        "colab": {
          "base_uri": "https://localhost:8080/"
        },
        "id": "n48KmalMsis3",
        "outputId": "27337f1d-b6d8-4446-ff91-41420cb9f11a"
      },
      "source": [
        "returnItemId('altas', id_tables)"
      ],
      "execution_count": 135,
      "outputs": [
        {
          "output_type": "execute_result",
          "data": {
            "text/plain": [
              "[(14, 'rrhh_altas'), (26, 'rrhh_altas'), (45, 'rrhh_altas')]"
            ]
          },
          "metadata": {
            "tags": []
          },
          "execution_count": 135
        }
      ]
    },
    {
      "cell_type": "code",
      "metadata": {
        "colab": {
          "base_uri": "https://localhost:8080/"
        },
        "id": "Mk2HQEldsiwN",
        "outputId": "405e9d2a-3686-4965-fc68-e477ca95dbd1"
      },
      "source": [
        "print(len(set(id_tables.keys())))\n",
        "print(len(set(id_tables.values())))"
      ],
      "execution_count": 136,
      "outputs": [
        {
          "output_type": "stream",
          "text": [
            "77\n",
            "62\n"
          ],
          "name": "stdout"
        }
      ]
    },
    {
      "cell_type": "code",
      "metadata": {
        "colab": {
          "base_uri": "https://localhost:8080/",
          "height": 464
        },
        "id": "jNkSmPZFurU8",
        "outputId": "3f8cb903-bbc5-4a1d-acc4-c32d8e247667"
      },
      "source": [
        "projects = pd.DataFrame.from_dict(tablesdict, orient='index').reset_index()\n",
        "\n",
        "projects"
      ],
      "execution_count": 204,
      "outputs": [
        {
          "output_type": "execute_result",
          "data": {
            "text/html": [
              "<div>\n",
              "<style scoped>\n",
              "    .dataframe tbody tr th:only-of-type {\n",
              "        vertical-align: middle;\n",
              "    }\n",
              "\n",
              "    .dataframe tbody tr th {\n",
              "        vertical-align: top;\n",
              "    }\n",
              "\n",
              "    .dataframe thead th {\n",
              "        text-align: right;\n",
              "    }\n",
              "</style>\n",
              "<table border=\"1\" class=\"dataframe\">\n",
              "  <thead>\n",
              "    <tr style=\"text-align: right;\">\n",
              "      <th></th>\n",
              "      <th>index</th>\n",
              "      <th>0</th>\n",
              "      <th>1</th>\n",
              "      <th>2</th>\n",
              "      <th>3</th>\n",
              "      <th>4</th>\n",
              "      <th>5</th>\n",
              "      <th>6</th>\n",
              "      <th>7</th>\n",
              "      <th>8</th>\n",
              "      <th>9</th>\n",
              "      <th>10</th>\n",
              "      <th>11</th>\n",
              "      <th>12</th>\n",
              "    </tr>\n",
              "  </thead>\n",
              "  <tbody>\n",
              "    <tr>\n",
              "      <th>0</th>\n",
              "      <td>0</td>\n",
              "      <td>plantilla_mensual</td>\n",
              "      <td>tipo_contrato</td>\n",
              "      <td>categoria_profesional</td>\n",
              "      <td>empleados_excluidos</td>\n",
              "      <td>nacionalidad</td>\n",
              "      <td>pais_trabajo</td>\n",
              "      <td>None</td>\n",
              "      <td>None</td>\n",
              "      <td>None</td>\n",
              "      <td>None</td>\n",
              "      <td>None</td>\n",
              "      <td>None</td>\n",
              "      <td>None</td>\n",
              "    </tr>\n",
              "    <tr>\n",
              "      <th>1</th>\n",
              "      <td>1</td>\n",
              "      <td>plantilla_mensual</td>\n",
              "      <td>brecha_salarios</td>\n",
              "      <td>tipo_contrato</td>\n",
              "      <td>categoria_profesional</td>\n",
              "      <td>empleados_excluidos</td>\n",
              "      <td>nacionalidad</td>\n",
              "      <td>pais_trabajo</td>\n",
              "      <td>None</td>\n",
              "      <td>None</td>\n",
              "      <td>None</td>\n",
              "      <td>None</td>\n",
              "      <td>None</td>\n",
              "      <td>None</td>\n",
              "    </tr>\n",
              "    <tr>\n",
              "      <th>2</th>\n",
              "      <td>2</td>\n",
              "      <td>rrhh_absentismo</td>\n",
              "      <td>rrhh_altas</td>\n",
              "      <td>rrhh_bajas</td>\n",
              "      <td>rhhh_plantilla</td>\n",
              "      <td>rrhh_contratacion</td>\n",
              "      <td>rrhh_indicadores</td>\n",
              "      <td>rrhh_jornada_trabajo</td>\n",
              "      <td>rrhhh_datos</td>\n",
              "      <td>None</td>\n",
              "      <td>None</td>\n",
              "      <td>None</td>\n",
              "      <td>None</td>\n",
              "      <td>None</td>\n",
              "    </tr>\n",
              "    <tr>\n",
              "      <th>3</th>\n",
              "      <td>3</td>\n",
              "      <td>entidades rrhh</td>\n",
              "      <td>indicadores rrhh</td>\n",
              "      <td>periodos informes rrhh</td>\n",
              "      <td>valores informe rrhh</td>\n",
              "      <td>None</td>\n",
              "      <td>None</td>\n",
              "      <td>None</td>\n",
              "      <td>None</td>\n",
              "      <td>None</td>\n",
              "      <td>None</td>\n",
              "      <td>None</td>\n",
              "      <td>None</td>\n",
              "      <td>None</td>\n",
              "    </tr>\n",
              "    <tr>\n",
              "      <th>4</th>\n",
              "      <td>4</td>\n",
              "      <td>indicadores rsc</td>\n",
              "      <td>rrhh_altas</td>\n",
              "      <td>rrhh_bajas</td>\n",
              "      <td>r_rhh_tipo_entidad_juridica</td>\n",
              "      <td>responsables de sociedades juridicas</td>\n",
              "      <td>rrhh_carga_indicadores</td>\n",
              "      <td>rrhh_carga_indicadores_mes</td>\n",
              "      <td>u_rhh_carga_subactividades</td>\n",
              "      <td>u_rhh_carga_subactividades</td>\n",
              "      <td>u_rhh_carga_subactividades</td>\n",
              "      <td>u_rhh_carga_subactividades</td>\n",
              "      <td>u_rhh_carga_subactividades</td>\n",
              "      <td>u_rhh_carga_subactividades</td>\n",
              "    </tr>\n",
              "    <tr>\n",
              "      <th>5</th>\n",
              "      <td>5</td>\n",
              "      <td>brecha salarial</td>\n",
              "      <td>brecha ajustada</td>\n",
              "      <td>ids a excluir brecha</td>\n",
              "      <td>percentiles brecha salarial</td>\n",
              "      <td>matriculas a obviar brecha</td>\n",
              "      <td>permisos brecha salarial</td>\n",
              "      <td>import brecha</td>\n",
              "      <td>rrhh_altas</td>\n",
              "      <td>None</td>\n",
              "      <td>None</td>\n",
              "      <td>None</td>\n",
              "      <td>None</td>\n",
              "      <td>None</td>\n",
              "    </tr>\n",
              "    <tr>\n",
              "      <th>6</th>\n",
              "      <td>6</td>\n",
              "      <td>plantilla_anual</td>\n",
              "      <td>movimientos plantilla unica</td>\n",
              "      <td>movimientos cierre mes</td>\n",
              "      <td>tipo de modificacion</td>\n",
              "      <td>versiones plantilla unica</td>\n",
              "      <td>sbq movimientos periodo anterios</td>\n",
              "      <td>None</td>\n",
              "      <td>None</td>\n",
              "      <td>None</td>\n",
              "      <td>None</td>\n",
              "      <td>None</td>\n",
              "      <td>None</td>\n",
              "      <td>None</td>\n",
              "    </tr>\n",
              "    <tr>\n",
              "      <th>7</th>\n",
              "      <td>7</td>\n",
              "      <td>d_hs_causa</td>\n",
              "      <td>tipo_contrato</td>\n",
              "      <td>d_hs_empresa</td>\n",
              "      <td>d_hs_presentado</td>\n",
              "      <td>d_hs_tareas</td>\n",
              "      <td>d_hs_territorio</td>\n",
              "      <td>d_hs_tipo_accidente_externo</td>\n",
              "      <td>d_hs_unidad</td>\n",
              "      <td>t_hs_accidentes_externos</td>\n",
              "      <td>t_hs_comunicacion_investigacion_accidentes</td>\n",
              "      <td>None</td>\n",
              "      <td>None</td>\n",
              "      <td>None</td>\n",
              "    </tr>\n",
              "    <tr>\n",
              "      <th>8</th>\n",
              "      <td>8</td>\n",
              "      <td>canal gestion responsable</td>\n",
              "      <td>criticidad</td>\n",
              "      <td>delegaciones</td>\n",
              "      <td>emails del gestor</td>\n",
              "      <td>logs de emails</td>\n",
              "      <td>plantillas emails</td>\n",
              "      <td>tipologias de consultas comerciales</td>\n",
              "      <td>None</td>\n",
              "      <td>None</td>\n",
              "      <td>None</td>\n",
              "      <td>None</td>\n",
              "      <td>None</td>\n",
              "      <td>None</td>\n",
              "    </tr>\n",
              "    <tr>\n",
              "      <th>9</th>\n",
              "      <td>9</td>\n",
              "      <td>gen_cuestionario</td>\n",
              "      <td>gen_ambito1</td>\n",
              "      <td>gestdoc_ambito2</td>\n",
              "      <td>preguntas</td>\n",
              "      <td>respuestas</td>\n",
              "      <td>resultados</td>\n",
              "      <td>planes de accion</td>\n",
              "      <td>palancas</td>\n",
              "      <td>None</td>\n",
              "      <td>None</td>\n",
              "      <td>None</td>\n",
              "      <td>None</td>\n",
              "      <td>None</td>\n",
              "    </tr>\n",
              "  </tbody>\n",
              "</table>\n",
              "</div>"
            ],
            "text/plain": [
              "   index  ...                          12\n",
              "0      0  ...                        None\n",
              "1      1  ...                        None\n",
              "2      2  ...                        None\n",
              "3      3  ...                        None\n",
              "4      4  ...  u_rhh_carga_subactividades\n",
              "5      5  ...                        None\n",
              "6      6  ...                        None\n",
              "7      7  ...                        None\n",
              "8      8  ...                        None\n",
              "9      9  ...                        None\n",
              "\n",
              "[10 rows x 14 columns]"
            ]
          },
          "metadata": {
            "tags": []
          },
          "execution_count": 204
        }
      ]
    },
    {
      "cell_type": "code",
      "metadata": {
        "id": "1tAs4201296i"
      },
      "source": [
        ""
      ],
      "execution_count": null,
      "outputs": []
    },
    {
      "cell_type": "code",
      "metadata": {
        "id": "Qxionv6Sz-Hw"
      },
      "source": [
        ""
      ],
      "execution_count": 174,
      "outputs": []
    },
    {
      "cell_type": "code",
      "metadata": {
        "id": "W0bpp6SAur92"
      },
      "source": [
        ""
      ],
      "execution_count": null,
      "outputs": []
    }
  ]
}